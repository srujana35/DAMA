{
 "cells": [
  {
   "cell_type": "code",
   "execution_count": 2,
   "metadata": {
    "collapsed": true,
    "ExecuteTime": {
     "end_time": "2023-08-27T14:29:26.537933154Z",
     "start_time": "2023-08-27T14:29:26.509176374Z"
    }
   },
   "outputs": [
    {
     "name": "stdout",
     "output_type": "stream",
     "text": [
      "The autoreload extension is already loaded. To reload it, use:\n",
      "  %reload_ext autoreload\n"
     ]
    }
   ],
   "source": [
    "%load_ext autoreload\n",
    "%autoreload 2"
   ]
  },
  {
   "cell_type": "code",
   "execution_count": 10,
   "outputs": [],
   "source": [
    "import json\n",
    "import os, sys\n",
    "import numpy as np\n",
    "import pandas as pd\n",
    "\n",
    "current_path = os.getcwd()\n",
    "sys.path.append(os.path.join(current_path, '..'))\n",
    "\n",
    "from adapt_model import parse_experiment_name\n",
    "from utils.globals import *\n"
   ],
   "metadata": {
    "collapsed": false,
    "ExecuteTime": {
     "end_time": "2023-08-27T14:32:07.104759630Z",
     "start_time": "2023-08-27T14:32:05.756214408Z"
    }
   }
  },
  {
   "cell_type": "code",
   "execution_count": 18,
   "outputs": [
    {
     "name": "stdout",
     "output_type": "stream",
     "text": [
      "DAMA  original\tresults_known_disable_mlp_10.jsonl  ROME\r\n"
     ]
    }
   ],
   "source": [
    "!ls $RESULTS_DIR"
   ],
   "metadata": {
    "collapsed": false,
    "ExecuteTime": {
     "end_time": "2023-08-27T14:54:43.188226128Z",
     "start_time": "2023-08-27T14:54:42.986374228Z"
    }
   }
  },
  {
   "cell_type": "code",
   "execution_count": 14,
   "outputs": [],
   "source": [
    "model_name = 'llama_7B'\n",
    "\n",
    "default_params = {\n",
    "    'iterative_update': False,\n",
    "    'mixed_update': True,\n",
    "    'task': 'gen',\n",
    "    'post_linear': True,\n",
    "    'batch_size': 1,\n",
    "    'orthogonal_constraint': 10.0,\n",
    "    'no_colinear_vs': True,\n",
    "    'use_neutral': True\n",
    "}\n",
    "\n",
    "variable_parameters = {\n",
    "    'num_layers': [7, 9, 11],\n",
    "    'null_dim': [64, 128, 256, 512, 1024],\n",
    "    'vs_at_last': [True, False]\n",
    "}\n",
    "\n"
   ],
   "metadata": {
    "collapsed": false,
    "ExecuteTime": {
     "end_time": "2023-08-27T14:38:54.234889837Z",
     "start_time": "2023-08-27T14:38:54.119165608Z"
    }
   }
  },
  {
   "cell_type": "code",
   "execution_count": 39,
   "outputs": [],
   "source": [
    "def load_data_file(model_name, method, experiment_name, test_file):\n",
    "    if experiment_name and 'method' != 'original':\n",
    "        result_dir = f\"{model_name}{experiment_name}\"\n",
    "    else:\n",
    "        result_dir = model_name\n",
    "    result_file = os.path.join(RESULTS_DIR, method, result_dir, test_file)\n",
    "    try:\n",
    "        with open(result_file, 'r') as f:\n",
    "            results = json.load(f)\n",
    "    except FileNotFoundError:\n",
    "        print(f\"File {result_file} not found\")\n",
    "        results = None\n",
    "\n",
    "    return results"
   ],
   "metadata": {
    "collapsed": false,
    "ExecuteTime": {
     "end_time": "2023-08-27T15:33:30.111945571Z",
     "start_time": "2023-08-27T15:33:30.037030822Z"
    }
   }
  },
  {
   "cell_type": "markdown",
   "source": [
    "Process generation results"
   ],
   "metadata": {
    "collapsed": false
   }
  },
  {
   "cell_type": "code",
   "execution_count": 25,
   "outputs": [],
   "source": [
    "def parse_generation_results(layers, dimensions, results):\n",
    "    out_row = {'layers': layers, 'dimensions': dimensions}\n",
    "    for key in ('slope_s', 'intercept_s', 'slope_f', 'intercept_f', 'prob_he', 'prob_she', 'prob_they'):\n",
    "        if results is None:\n",
    "            out_row[key] = 0.\n",
    "        else:\n",
    "            out_row[key] = results[key]\n",
    "    return out_row"
   ],
   "metadata": {
    "collapsed": false,
    "ExecuteTime": {
     "end_time": "2023-08-27T15:00:31.428596623Z",
     "start_time": "2023-08-27T15:00:31.344516509Z"
    }
   }
  },
  {
   "cell_type": "code",
   "execution_count": 26,
   "outputs": [],
   "source": [
    "gen_res = pd.DataFrame(columns=['layers', 'dimensions', 'slope_s', 'intercept_s', 'slope_f', 'intercept_f', 'prob_he', 'prob_she', 'prob_they'])\n",
    "test_file = 'res_gen_test_dama.json'\n",
    "# row = {'layers': None,'dimensions': None, 'slope_s': 0. ,'intercept_s': 0., 'slope_f': 0., 'intercept_f': 0.,\n",
    "#        'prob_he': 0., 'prob_she': 0., 'prob_they': 0.}\n",
    "\n",
    "tmp_res = load_data_file(model_name, 'original', None, test_file)\n",
    "\n",
    "gen_res.loc[len(gen_res)] = parse_generation_results(0, 0, tmp_res)\n",
    "\n",
    "for num_layers in variable_parameters['num_layers']:\n",
    "    for null_dim in variable_parameters['null_dim']:\n",
    "        vs_at_last = num_layers != 11\n",
    "        experiment_name = parse_experiment_name(**default_params, num_layers=num_layers, null_dim=null_dim, vs_at_last=vs_at_last)\n",
    "        tmp_res = load_data_file(model_name, 'DAMA', experiment_name, test_file)\n",
    "        gen_res.loc[len(gen_res)] = parse_generation_results(num_layers, null_dim, tmp_res)"
   ],
   "metadata": {
    "collapsed": false,
    "ExecuteTime": {
     "end_time": "2023-08-27T15:00:32.976279980Z",
     "start_time": "2023-08-27T15:00:32.843846482Z"
    }
   }
  },
  {
   "cell_type": "code",
   "execution_count": 30,
   "outputs": [
    {
     "data": {
      "text/plain": "    layers  dimensions   slope_s  intercept_s   slope_f  intercept_f   \n0        0           0  0.204384     0.130726  0.770820     0.169416  \\\n1        7          64  0.182529     0.096371  0.693667     0.130751   \n2        7         128  0.183076     0.102495  0.692600     0.137081   \n3        7         256  0.183076     0.102495  0.692600     0.137081   \n4        7         512  0.173165     0.097712  0.664149     0.130130   \n5        7        1024  0.157779     0.093135  0.604006     0.122709   \n6        9          64  0.167587     0.082449  0.632262     0.114166   \n7        9         128  0.167858     0.090851  0.631464     0.122678   \n8        9         256  0.167858     0.090851  0.631464     0.122678   \n9        9         512  0.150585     0.077217  0.578658     0.105371   \n10       9        1024  0.126547     0.063244  0.487350     0.086869   \n11      11          64  0.044684    -0.005636  0.164161     0.002965   \n12      11         128  0.045375    -0.010803  0.167394    -0.002091   \n13      11         256  0.068464     0.004372  0.257947     0.017341   \n14      11         512  0.087113    -0.048129  0.318937    -0.031324   \n15      11        1024  0.058463    -0.025064  0.209941    -0.013651   \n\n     prob_he  prob_she  prob_they  \n0   0.266737  0.072094   0.024262  \n1   0.222804  0.069352   0.025365  \n2   0.230931  0.071184   0.025327  \n3   0.230931  0.071184   0.025327  \n4   0.226270  0.074404   0.027037  \n5   0.214962  0.072486   0.027603  \n6   0.200563  0.065706   0.026166  \n7   0.210972  0.067627   0.025233  \n8   0.210972  0.067627   0.025233  \n9   0.196754  0.072445   0.029707  \n10  0.172758  0.069940   0.030561  \n11  0.031478  0.023140   0.026681  \n12  0.028134  0.024747   0.016082  \n13  0.057692  0.031909   0.031731  \n14  0.033595  0.054482   0.037385  \n15  0.024242  0.031023   0.067329  ",
      "text/html": "<div>\n<style scoped>\n    .dataframe tbody tr th:only-of-type {\n        vertical-align: middle;\n    }\n\n    .dataframe tbody tr th {\n        vertical-align: top;\n    }\n\n    .dataframe thead th {\n        text-align: right;\n    }\n</style>\n<table border=\"1\" class=\"dataframe\">\n  <thead>\n    <tr style=\"text-align: right;\">\n      <th></th>\n      <th>layers</th>\n      <th>dimensions</th>\n      <th>slope_s</th>\n      <th>intercept_s</th>\n      <th>slope_f</th>\n      <th>intercept_f</th>\n      <th>prob_he</th>\n      <th>prob_she</th>\n      <th>prob_they</th>\n    </tr>\n  </thead>\n  <tbody>\n    <tr>\n      <th>0</th>\n      <td>0</td>\n      <td>0</td>\n      <td>0.204384</td>\n      <td>0.130726</td>\n      <td>0.770820</td>\n      <td>0.169416</td>\n      <td>0.266737</td>\n      <td>0.072094</td>\n      <td>0.024262</td>\n    </tr>\n    <tr>\n      <th>1</th>\n      <td>7</td>\n      <td>64</td>\n      <td>0.182529</td>\n      <td>0.096371</td>\n      <td>0.693667</td>\n      <td>0.130751</td>\n      <td>0.222804</td>\n      <td>0.069352</td>\n      <td>0.025365</td>\n    </tr>\n    <tr>\n      <th>2</th>\n      <td>7</td>\n      <td>128</td>\n      <td>0.183076</td>\n      <td>0.102495</td>\n      <td>0.692600</td>\n      <td>0.137081</td>\n      <td>0.230931</td>\n      <td>0.071184</td>\n      <td>0.025327</td>\n    </tr>\n    <tr>\n      <th>3</th>\n      <td>7</td>\n      <td>256</td>\n      <td>0.183076</td>\n      <td>0.102495</td>\n      <td>0.692600</td>\n      <td>0.137081</td>\n      <td>0.230931</td>\n      <td>0.071184</td>\n      <td>0.025327</td>\n    </tr>\n    <tr>\n      <th>4</th>\n      <td>7</td>\n      <td>512</td>\n      <td>0.173165</td>\n      <td>0.097712</td>\n      <td>0.664149</td>\n      <td>0.130130</td>\n      <td>0.226270</td>\n      <td>0.074404</td>\n      <td>0.027037</td>\n    </tr>\n    <tr>\n      <th>5</th>\n      <td>7</td>\n      <td>1024</td>\n      <td>0.157779</td>\n      <td>0.093135</td>\n      <td>0.604006</td>\n      <td>0.122709</td>\n      <td>0.214962</td>\n      <td>0.072486</td>\n      <td>0.027603</td>\n    </tr>\n    <tr>\n      <th>6</th>\n      <td>9</td>\n      <td>64</td>\n      <td>0.167587</td>\n      <td>0.082449</td>\n      <td>0.632262</td>\n      <td>0.114166</td>\n      <td>0.200563</td>\n      <td>0.065706</td>\n      <td>0.026166</td>\n    </tr>\n    <tr>\n      <th>7</th>\n      <td>9</td>\n      <td>128</td>\n      <td>0.167858</td>\n      <td>0.090851</td>\n      <td>0.631464</td>\n      <td>0.122678</td>\n      <td>0.210972</td>\n      <td>0.067627</td>\n      <td>0.025233</td>\n    </tr>\n    <tr>\n      <th>8</th>\n      <td>9</td>\n      <td>256</td>\n      <td>0.167858</td>\n      <td>0.090851</td>\n      <td>0.631464</td>\n      <td>0.122678</td>\n      <td>0.210972</td>\n      <td>0.067627</td>\n      <td>0.025233</td>\n    </tr>\n    <tr>\n      <th>9</th>\n      <td>9</td>\n      <td>512</td>\n      <td>0.150585</td>\n      <td>0.077217</td>\n      <td>0.578658</td>\n      <td>0.105371</td>\n      <td>0.196754</td>\n      <td>0.072445</td>\n      <td>0.029707</td>\n    </tr>\n    <tr>\n      <th>10</th>\n      <td>9</td>\n      <td>1024</td>\n      <td>0.126547</td>\n      <td>0.063244</td>\n      <td>0.487350</td>\n      <td>0.086869</td>\n      <td>0.172758</td>\n      <td>0.069940</td>\n      <td>0.030561</td>\n    </tr>\n    <tr>\n      <th>11</th>\n      <td>11</td>\n      <td>64</td>\n      <td>0.044684</td>\n      <td>-0.005636</td>\n      <td>0.164161</td>\n      <td>0.002965</td>\n      <td>0.031478</td>\n      <td>0.023140</td>\n      <td>0.026681</td>\n    </tr>\n    <tr>\n      <th>12</th>\n      <td>11</td>\n      <td>128</td>\n      <td>0.045375</td>\n      <td>-0.010803</td>\n      <td>0.167394</td>\n      <td>-0.002091</td>\n      <td>0.028134</td>\n      <td>0.024747</td>\n      <td>0.016082</td>\n    </tr>\n    <tr>\n      <th>13</th>\n      <td>11</td>\n      <td>256</td>\n      <td>0.068464</td>\n      <td>0.004372</td>\n      <td>0.257947</td>\n      <td>0.017341</td>\n      <td>0.057692</td>\n      <td>0.031909</td>\n      <td>0.031731</td>\n    </tr>\n    <tr>\n      <th>14</th>\n      <td>11</td>\n      <td>512</td>\n      <td>0.087113</td>\n      <td>-0.048129</td>\n      <td>0.318937</td>\n      <td>-0.031324</td>\n      <td>0.033595</td>\n      <td>0.054482</td>\n      <td>0.037385</td>\n    </tr>\n    <tr>\n      <th>15</th>\n      <td>11</td>\n      <td>1024</td>\n      <td>0.058463</td>\n      <td>-0.025064</td>\n      <td>0.209941</td>\n      <td>-0.013651</td>\n      <td>0.024242</td>\n      <td>0.031023</td>\n      <td>0.067329</td>\n    </tr>\n  </tbody>\n</table>\n</div>"
     },
     "metadata": {},
     "output_type": "display_data"
    }
   ],
   "source": [
    "display(gen_res)\n",
    "# save to csv\n",
    "gen_res.to_csv(os.path.join(RESULTS_DIR, 'gen_res.csv'), index=False)"
   ],
   "metadata": {
    "collapsed": false,
    "ExecuteTime": {
     "end_time": "2023-08-27T15:01:37.406050916Z",
     "start_time": "2023-08-27T15:01:37.299510588Z"
    }
   }
  },
  {
   "cell_type": "markdown",
   "source": [
    "Process causal lm results"
   ],
   "metadata": {
    "collapsed": false
   }
  },
  {
   "cell_type": "code",
   "execution_count": 33,
   "outputs": [],
   "source": [
    "def parse_causal_lm_results(layers, dimensions, results):\n",
    "    out_row = {'layers': layers, 'dimensions': dimensions, 'perplexity': results['mean_perplexity'] if results else 0.}\n",
    "    return out_row"
   ],
   "metadata": {
    "collapsed": false,
    "ExecuteTime": {
     "end_time": "2023-08-27T15:06:56.204959361Z",
     "start_time": "2023-08-27T15:06:56.134155019Z"
    }
   }
  },
  {
   "cell_type": "code",
   "execution_count": 35,
   "outputs": [],
   "source": [
    "lm_res = pd.DataFrame(columns=['layers', 'dimensions', 'perplexity'])\n",
    "\n",
    "test_file = 'res_causal_lm_wikitext_wikitext-103-raw-v1.json'\n",
    "# row = {'layers': None,'dimensions': None, 'perplexity': 0.}\n",
    "\n",
    "tmp_res = load_data_file(model_name, 'original', None, test_file)\n",
    "lm_res.loc[len(lm_res)] = parse_causal_lm_results(0, 0, tmp_res)\n",
    "\n",
    "for num_layers in variable_parameters['num_layers']:\n",
    "    for null_dim in variable_parameters['null_dim']:\n",
    "        vs_at_last = num_layers != 11\n",
    "        experiment_name = parse_experiment_name(**default_params, num_layers=num_layers, null_dim=null_dim, vs_at_last=vs_at_last)\n",
    "        tmp_res = load_data_file(model_name, 'DAMA', experiment_name, test_file)\n",
    "        lm_res.loc[len(lm_res)] = parse_causal_lm_results(num_layers, null_dim, tmp_res)"
   ],
   "metadata": {
    "collapsed": false,
    "ExecuteTime": {
     "end_time": "2023-08-27T15:07:09.996398174Z",
     "start_time": "2023-08-27T15:07:09.899538712Z"
    }
   }
  },
  {
   "cell_type": "code",
   "execution_count": 36,
   "outputs": [
    {
     "data": {
      "text/plain": "    layers  dimensions  perplexity\n0        0           0   26.079183\n1        7          64   26.938672\n2        7         128   27.479856\n3        7         256   27.479856\n4        7         512   30.803725\n5        7        1024   34.600923\n6        9          64   25.764616\n7        9         128   25.989997\n8        9         256   25.989997\n9        9         512   30.259833\n10       9        1024   31.992859\n11      11          64  148.538533\n12      11         128  168.462005\n13      11         256  230.730759\n14      11         512  206.200242\n15      11        1024  195.043748",
      "text/html": "<div>\n<style scoped>\n    .dataframe tbody tr th:only-of-type {\n        vertical-align: middle;\n    }\n\n    .dataframe tbody tr th {\n        vertical-align: top;\n    }\n\n    .dataframe thead th {\n        text-align: right;\n    }\n</style>\n<table border=\"1\" class=\"dataframe\">\n  <thead>\n    <tr style=\"text-align: right;\">\n      <th></th>\n      <th>layers</th>\n      <th>dimensions</th>\n      <th>perplexity</th>\n    </tr>\n  </thead>\n  <tbody>\n    <tr>\n      <th>0</th>\n      <td>0</td>\n      <td>0</td>\n      <td>26.079183</td>\n    </tr>\n    <tr>\n      <th>1</th>\n      <td>7</td>\n      <td>64</td>\n      <td>26.938672</td>\n    </tr>\n    <tr>\n      <th>2</th>\n      <td>7</td>\n      <td>128</td>\n      <td>27.479856</td>\n    </tr>\n    <tr>\n      <th>3</th>\n      <td>7</td>\n      <td>256</td>\n      <td>27.479856</td>\n    </tr>\n    <tr>\n      <th>4</th>\n      <td>7</td>\n      <td>512</td>\n      <td>30.803725</td>\n    </tr>\n    <tr>\n      <th>5</th>\n      <td>7</td>\n      <td>1024</td>\n      <td>34.600923</td>\n    </tr>\n    <tr>\n      <th>6</th>\n      <td>9</td>\n      <td>64</td>\n      <td>25.764616</td>\n    </tr>\n    <tr>\n      <th>7</th>\n      <td>9</td>\n      <td>128</td>\n      <td>25.989997</td>\n    </tr>\n    <tr>\n      <th>8</th>\n      <td>9</td>\n      <td>256</td>\n      <td>25.989997</td>\n    </tr>\n    <tr>\n      <th>9</th>\n      <td>9</td>\n      <td>512</td>\n      <td>30.259833</td>\n    </tr>\n    <tr>\n      <th>10</th>\n      <td>9</td>\n      <td>1024</td>\n      <td>31.992859</td>\n    </tr>\n    <tr>\n      <th>11</th>\n      <td>11</td>\n      <td>64</td>\n      <td>148.538533</td>\n    </tr>\n    <tr>\n      <th>12</th>\n      <td>11</td>\n      <td>128</td>\n      <td>168.462005</td>\n    </tr>\n    <tr>\n      <th>13</th>\n      <td>11</td>\n      <td>256</td>\n      <td>230.730759</td>\n    </tr>\n    <tr>\n      <th>14</th>\n      <td>11</td>\n      <td>512</td>\n      <td>206.200242</td>\n    </tr>\n    <tr>\n      <th>15</th>\n      <td>11</td>\n      <td>1024</td>\n      <td>195.043748</td>\n    </tr>\n  </tbody>\n</table>\n</div>"
     },
     "metadata": {},
     "output_type": "display_data"
    }
   ],
   "source": [
    "display(lm_res)\n",
    "# save to csv\n",
    "lm_res.to_csv(os.path.join(RESULTS_DIR, 'lm_res.csv'), index=False)"
   ],
   "metadata": {
    "collapsed": false,
    "ExecuteTime": {
     "end_time": "2023-08-27T15:07:17.311203917Z",
     "start_time": "2023-08-27T15:07:17.094963787Z"
    }
   }
  },
  {
   "cell_type": "markdown",
   "source": [
    "Process coreference results"
   ],
   "metadata": {
    "collapsed": false
   }
  },
  {
   "cell_type": "code",
   "execution_count": 50,
   "outputs": [],
   "source": [
    "def parse_causal_lm_results(layers, dimensions, results_a1, results_a2, results_p1, results_p2):\n",
    "    out_row = {'layers': layers, 'dimensions': dimensions}\n",
    "\n",
    "    if results_a1 is None or results_a2 is None or results_p1 is None or results_p2 is None:\n",
    "        out_row['anti_male'] = 0.\n",
    "        out_row['anti_female'] = 0.\n",
    "        out_row['pro_male'] = 0.\n",
    "        out_row['pro_female'] = 0.\n",
    "    else:\n",
    "        out_row['anti_male'] = (results_a1['m_acc'] + results_a2['m_acc']) / 2.\n",
    "        out_row['anti_female'] = (results_a1['f_acc'] + results_a2['f_acc']) / 2.\n",
    "        out_row['pro_male'] = (results_p1['m_acc'] + results_p2['m_acc']) / 2.\n",
    "        out_row['pro_female'] = (results_p1['f_acc'] + results_p2['f_acc']) / 2.\n",
    "\n",
    "    out_row['ACC'] = (out_row['anti_male'] + out_row['anti_female'] + out_row['pro_male'] + out_row['pro_female']) / 4.\n",
    "    out_row['Delta_S'] = (out_row['pro_male'] + out_row['pro_female'] - out_row['anti_male'] - out_row['anti_female']) / 2.\n",
    "    out_row['Delta_G'] = (out_row['pro_male'] + out_row['anti_male'] - out_row['pro_female'] - out_row['anti_female']) / 2.\n",
    "    return out_row"
   ],
   "metadata": {
    "collapsed": false,
    "ExecuteTime": {
     "end_time": "2023-08-27T16:19:59.473786799Z",
     "start_time": "2023-08-27T16:19:58.853040685Z"
    }
   }
  },
  {
   "cell_type": "code",
   "execution_count": 51,
   "outputs": [],
   "source": [
    "lm_rs = pd.DataFrame(columns=['layers', 'dimensions', 'ACC', 'Delta_S', 'Delta_G', 'anti_male', 'anti_female', 'pro_male', 'pro_female'])\n",
    "\n",
    "test_file_a1 = 'res_coref_anti_type1_test.json'\n",
    "test_file_a2 = 'res_coref_anti_type2_test.json'\n",
    "test_file_p1 = 'res_coref_pro_type1_test.json'\n",
    "test_file_p2 = 'res_coref_pro_type2_test.json'\n",
    "\n",
    "\n",
    "tmp_res_a1 = load_data_file(model_name, 'original', None, test_file_a1)\n",
    "tmp_res_a2 = load_data_file(model_name, 'original', None, test_file_a2)\n",
    "tmp_res_p1 = load_data_file(model_name, 'original', None, test_file_p1)\n",
    "tmp_res_p2 = load_data_file(model_name, 'original', None, test_file_p2)\n",
    "\n",
    "lm_rs.loc[len(lm_rs)] = parse_causal_lm_results(0, 0, tmp_res_a1, tmp_res_a2, tmp_res_p1, tmp_res_p2)\n",
    "\n",
    "for num_layers in variable_parameters['num_layers']:\n",
    "    for null_dim in variable_parameters['null_dim']:\n",
    "        vs_at_last = num_layers != 11\n",
    "        experiment_name = parse_experiment_name(**default_params, num_layers=num_layers, null_dim=null_dim, vs_at_last=vs_at_last)\n",
    "        tmp_res_a1 = load_data_file(model_name, 'DAMA', experiment_name, test_file_a1)\n",
    "        tmp_res_a2 = load_data_file(model_name, 'DAMA', experiment_name, test_file_a2)\n",
    "        tmp_res_p1 = load_data_file(model_name, 'DAMA', experiment_name, test_file_p1)\n",
    "        tmp_res_p2 = load_data_file(model_name, 'DAMA', experiment_name, test_file_p2)\n",
    "        lm_rs.loc[len(lm_rs)] = parse_causal_lm_results(num_layers, null_dim, tmp_res_a1, tmp_res_a2, tmp_res_p1, tmp_res_p2)\n",
    "\n"
   ],
   "metadata": {
    "collapsed": false,
    "ExecuteTime": {
     "end_time": "2023-08-27T16:20:00.598738007Z",
     "start_time": "2023-08-27T16:20:00.316705569Z"
    }
   }
  },
  {
   "cell_type": "code",
   "execution_count": 52,
   "outputs": [
    {
     "data": {
      "text/plain": "    layers  dimensions       ACC   Delta_S   Delta_G  anti_male  anti_female   \n0        0           0  0.591334  0.403190  0.029478   0.404066     0.375412  \\\n1        7          64  0.589453  0.412004  0.018165   0.391515     0.375387   \n2        7         128  0.588178  0.404452  0.015538   0.398965     0.372939   \n3        7         256  0.588178  0.404452  0.015538   0.398965     0.372939   \n4        7         512  0.582566  0.387898  0.011711   0.421793     0.355442   \n5        7        1024  0.569883  0.317305  0.011699   0.462071     0.360390   \n6        9          64  0.595772  0.424617  0.028253   0.401616     0.365311   \n7        9         128  0.591385  0.415714  0.014275   0.391490     0.375567   \n8        9         256  0.591385  0.415714  0.014275   0.391490     0.375567   \n9        9         512  0.592668  0.360118  0.024184   0.431742     0.393476   \n10       9        1024  0.570629  0.285509  0.022984   0.447071     0.408679   \n11      11          64  0.544752  0.218577 -0.008620   0.436944     0.433983   \n12      11         128  0.544045  0.154334  0.020192   0.499697     0.434060   \n13      11         256  0.540952  0.173147  0.006481   0.459596     0.449160   \n14      11         512  0.532789  0.159170  0.017882   0.444571     0.461838   \n15      11        1024  0.554847  0.173133  0.021517   0.467071     0.469491   \n\n    pro_male  pro_female  \n0   0.808081    0.777778  \n1   0.805556    0.785354  \n2   0.792929    0.787879  \n3   0.792929    0.787879  \n4   0.755051    0.797980  \n5   0.689394    0.767677  \n6   0.818182    0.797980  \n7   0.805556    0.792929  \n8   0.805556    0.792929  \n9   0.777778    0.767677  \n10  0.717172    0.709596  \n11  0.643939    0.664141  \n12  0.608586    0.633838  \n13  0.628788    0.626263  \n14  0.638889    0.585859  \n15  0.664141    0.618687  ",
      "text/html": "<div>\n<style scoped>\n    .dataframe tbody tr th:only-of-type {\n        vertical-align: middle;\n    }\n\n    .dataframe tbody tr th {\n        vertical-align: top;\n    }\n\n    .dataframe thead th {\n        text-align: right;\n    }\n</style>\n<table border=\"1\" class=\"dataframe\">\n  <thead>\n    <tr style=\"text-align: right;\">\n      <th></th>\n      <th>layers</th>\n      <th>dimensions</th>\n      <th>ACC</th>\n      <th>Delta_S</th>\n      <th>Delta_G</th>\n      <th>anti_male</th>\n      <th>anti_female</th>\n      <th>pro_male</th>\n      <th>pro_female</th>\n    </tr>\n  </thead>\n  <tbody>\n    <tr>\n      <th>0</th>\n      <td>0</td>\n      <td>0</td>\n      <td>0.591334</td>\n      <td>0.403190</td>\n      <td>0.029478</td>\n      <td>0.404066</td>\n      <td>0.375412</td>\n      <td>0.808081</td>\n      <td>0.777778</td>\n    </tr>\n    <tr>\n      <th>1</th>\n      <td>7</td>\n      <td>64</td>\n      <td>0.589453</td>\n      <td>0.412004</td>\n      <td>0.018165</td>\n      <td>0.391515</td>\n      <td>0.375387</td>\n      <td>0.805556</td>\n      <td>0.785354</td>\n    </tr>\n    <tr>\n      <th>2</th>\n      <td>7</td>\n      <td>128</td>\n      <td>0.588178</td>\n      <td>0.404452</td>\n      <td>0.015538</td>\n      <td>0.398965</td>\n      <td>0.372939</td>\n      <td>0.792929</td>\n      <td>0.787879</td>\n    </tr>\n    <tr>\n      <th>3</th>\n      <td>7</td>\n      <td>256</td>\n      <td>0.588178</td>\n      <td>0.404452</td>\n      <td>0.015538</td>\n      <td>0.398965</td>\n      <td>0.372939</td>\n      <td>0.792929</td>\n      <td>0.787879</td>\n    </tr>\n    <tr>\n      <th>4</th>\n      <td>7</td>\n      <td>512</td>\n      <td>0.582566</td>\n      <td>0.387898</td>\n      <td>0.011711</td>\n      <td>0.421793</td>\n      <td>0.355442</td>\n      <td>0.755051</td>\n      <td>0.797980</td>\n    </tr>\n    <tr>\n      <th>5</th>\n      <td>7</td>\n      <td>1024</td>\n      <td>0.569883</td>\n      <td>0.317305</td>\n      <td>0.011699</td>\n      <td>0.462071</td>\n      <td>0.360390</td>\n      <td>0.689394</td>\n      <td>0.767677</td>\n    </tr>\n    <tr>\n      <th>6</th>\n      <td>9</td>\n      <td>64</td>\n      <td>0.595772</td>\n      <td>0.424617</td>\n      <td>0.028253</td>\n      <td>0.401616</td>\n      <td>0.365311</td>\n      <td>0.818182</td>\n      <td>0.797980</td>\n    </tr>\n    <tr>\n      <th>7</th>\n      <td>9</td>\n      <td>128</td>\n      <td>0.591385</td>\n      <td>0.415714</td>\n      <td>0.014275</td>\n      <td>0.391490</td>\n      <td>0.375567</td>\n      <td>0.805556</td>\n      <td>0.792929</td>\n    </tr>\n    <tr>\n      <th>8</th>\n      <td>9</td>\n      <td>256</td>\n      <td>0.591385</td>\n      <td>0.415714</td>\n      <td>0.014275</td>\n      <td>0.391490</td>\n      <td>0.375567</td>\n      <td>0.805556</td>\n      <td>0.792929</td>\n    </tr>\n    <tr>\n      <th>9</th>\n      <td>9</td>\n      <td>512</td>\n      <td>0.592668</td>\n      <td>0.360118</td>\n      <td>0.024184</td>\n      <td>0.431742</td>\n      <td>0.393476</td>\n      <td>0.777778</td>\n      <td>0.767677</td>\n    </tr>\n    <tr>\n      <th>10</th>\n      <td>9</td>\n      <td>1024</td>\n      <td>0.570629</td>\n      <td>0.285509</td>\n      <td>0.022984</td>\n      <td>0.447071</td>\n      <td>0.408679</td>\n      <td>0.717172</td>\n      <td>0.709596</td>\n    </tr>\n    <tr>\n      <th>11</th>\n      <td>11</td>\n      <td>64</td>\n      <td>0.544752</td>\n      <td>0.218577</td>\n      <td>-0.008620</td>\n      <td>0.436944</td>\n      <td>0.433983</td>\n      <td>0.643939</td>\n      <td>0.664141</td>\n    </tr>\n    <tr>\n      <th>12</th>\n      <td>11</td>\n      <td>128</td>\n      <td>0.544045</td>\n      <td>0.154334</td>\n      <td>0.020192</td>\n      <td>0.499697</td>\n      <td>0.434060</td>\n      <td>0.608586</td>\n      <td>0.633838</td>\n    </tr>\n    <tr>\n      <th>13</th>\n      <td>11</td>\n      <td>256</td>\n      <td>0.540952</td>\n      <td>0.173147</td>\n      <td>0.006481</td>\n      <td>0.459596</td>\n      <td>0.449160</td>\n      <td>0.628788</td>\n      <td>0.626263</td>\n    </tr>\n    <tr>\n      <th>14</th>\n      <td>11</td>\n      <td>512</td>\n      <td>0.532789</td>\n      <td>0.159170</td>\n      <td>0.017882</td>\n      <td>0.444571</td>\n      <td>0.461838</td>\n      <td>0.638889</td>\n      <td>0.585859</td>\n    </tr>\n    <tr>\n      <th>15</th>\n      <td>11</td>\n      <td>1024</td>\n      <td>0.554847</td>\n      <td>0.173133</td>\n      <td>0.021517</td>\n      <td>0.467071</td>\n      <td>0.469491</td>\n      <td>0.664141</td>\n      <td>0.618687</td>\n    </tr>\n  </tbody>\n</table>\n</div>"
     },
     "metadata": {},
     "output_type": "display_data"
    }
   ],
   "source": [
    "display(lm_rs)\n",
    "# save to csv\n",
    "lm_rs.to_csv(os.path.join(RESULTS_DIR, 'coref_res.csv'), index=False)"
   ],
   "metadata": {
    "collapsed": false,
    "ExecuteTime": {
     "end_time": "2023-08-27T16:20:02.653089515Z",
     "start_time": "2023-08-27T16:20:02.554853557Z"
    }
   }
  },
  {
   "cell_type": "code",
   "execution_count": null,
   "outputs": [],
   "source": [],
   "metadata": {
    "collapsed": false
   }
  }
 ],
 "metadata": {
  "kernelspec": {
   "display_name": "Python 3",
   "language": "python",
   "name": "python3"
  },
  "language_info": {
   "codemirror_mode": {
    "name": "ipython",
    "version": 2
   },
   "file_extension": ".py",
   "mimetype": "text/x-python",
   "name": "python",
   "nbconvert_exporter": "python",
   "pygments_lexer": "ipython2",
   "version": "2.7.6"
  }
 },
 "nbformat": 4,
 "nbformat_minor": 0
}
